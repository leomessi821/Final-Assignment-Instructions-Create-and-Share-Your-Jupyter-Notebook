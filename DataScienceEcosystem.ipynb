{
 "cells": [
  {
   "cell_type": "markdown",
   "id": "64b73521-fa93-48d3-8203-a570c607b26b",
   "metadata": {},
   "source": [
    "# Data Science Tools and Ecosystem"
   ]
  },
  {
   "cell_type": "markdown",
   "id": "4ee4e394-31a7-452d-a879-b9b3defaabd5",
   "metadata": {},
   "source": [
    "In this notebook, Data Science Tools and Ecosystem are summarized."
   ]
  },
  {
   "cell_type": "markdown",
   "id": "d8e3010f-0103-412d-a481-765785685737",
   "metadata": {},
   "source": [
    "**Objectives:** \n",
    "\n",
    "* List popular languages for Data Science\n",
    "* Common libraries in Data Science \n",
    "* Examples of arithmetic expressions in Python\n",
    "* Adding integers\n",
    "* Being awsome"
   ]
  },
  {
   "cell_type": "markdown",
   "id": "2f04e70c-695b-4859-a3df-9d9094c26fd3",
   "metadata": {},
   "source": [
    "## Author\n",
    "\n",
    "Omar El Oudghiri"
   ]
  },
  {
   "cell_type": "markdown",
   "id": "5bc7a7fc-b352-4cce-948f-60b650f79fb9",
   "metadata": {},
   "source": [
    "## Some of the popular languages that Data Scientists use are:\n",
    "\n",
    "1. Python\n",
    "2. R\n",
    "3. Ruby\n",
    "3. Julia"
   ]
  },
  {
   "cell_type": "markdown",
   "id": "0f3998ae-1937-41c0-9779-88de444618cb",
   "metadata": {},
   "source": [
    "Some of the commonly used libraries used by Data Scientists include:\n",
    "\n",
    "1. Pandas\n",
    "2. Numpy \n",
    "3. Matplotlin\n",
    "4. Scitkit-learn"
   ]
  },
  {
   "cell_type": "markdown",
   "id": "7a8ed07f-6d96-48a0-a9e9-6f9aa2c3d361",
   "metadata": {},
   "source": [
    " | Data Science Tools |\n",
    "----------------------\n",
    " | Jupyter lab |\n",
    " |Jupyter Notebook |\n",
    " | Anaconda | \n",
    "-------------------"
   ]
  },
  {
   "cell_type": "markdown",
   "id": "d68997e6-ebec-463c-919b-119a9172190f",
   "metadata": {},
   "source": [
    "### Below are a few examples of evaluating arithmetic expressions in Python"
   ]
  },
  {
   "cell_type": "code",
   "execution_count": 3,
   "id": "bee96f37-0873-4954-b14d-11a5879f6046",
   "metadata": {},
   "outputs": [
    {
     "data": {
      "text/plain": [
       "17"
      ]
     },
     "execution_count": 3,
     "metadata": {},
     "output_type": "execute_result"
    }
   ],
   "source": [
    "#This a simple arithmetic expression to mutiply then add integers\n",
    "\n",
    "(3*4)+5"
   ]
  },
  {
   "cell_type": "code",
   "execution_count": 5,
   "id": "2971bcee-7cc0-4a57-8653-89ee5fac8aca",
   "metadata": {},
   "outputs": [
    {
     "data": {
      "text/plain": [
       "3.3333333333333335"
      ]
     },
     "execution_count": 5,
     "metadata": {},
     "output_type": "execute_result"
    }
   ],
   "source": [
    "#This will convert 200 minutes to hours by diving by 60\n",
    "\n",
    "def convert_to_hours (x):\n",
    "    return x / 60\n",
    "\n",
    "convert_to_hours(200)"
   ]
  }
 ],
 "metadata": {
  "kernelspec": {
   "display_name": "Python 3 (ipykernel)",
   "language": "python",
   "name": "python3"
  },
  "language_info": {
   "codemirror_mode": {
    "name": "ipython",
    "version": 3
   },
   "file_extension": ".py",
   "mimetype": "text/x-python",
   "name": "python",
   "nbconvert_exporter": "python",
   "pygments_lexer": "ipython3",
   "version": "3.9.12"
  }
 },
 "nbformat": 4,
 "nbformat_minor": 5
}
